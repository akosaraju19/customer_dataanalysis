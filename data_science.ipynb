{
 "cells": [
  {
   "cell_type": "markdown",
   "metadata": {},
   "source": [
    "## Data Science Task\n",
    "\n",
    "##### Data preparation"
   ]
  },
  {
   "cell_type": "code",
   "execution_count": 1,
   "metadata": {},
   "outputs": [
    {
     "name": "stderr",
     "output_type": "stream",
     "text": [
      "/Users/akosaraju/Library/Python/3.9/lib/python/site-packages/tqdm/auto.py:21: TqdmWarning: IProgress not found. Please update jupyter and ipywidgets. See https://ipywidgets.readthedocs.io/en/stable/user_install.html\n",
      "  from .autonotebook import tqdm as notebook_tqdm\n"
     ]
    }
   ],
   "source": [
    "import pandas as pd\n",
    "import numpy as np\n",
    "import matplotlib.pyplot as plt\n",
    "import seaborn as sns\n",
    "\n",
    "from sklearn.model_selection import train_test_split, GridSearchCV, cross_val_score\n",
    "from sklearn.preprocessing import StandardScaler, LabelEncoder, OneHotEncoder\n",
    "from sklearn.metrics import classification_report, confusion_matrix, roc_auc_score, roc_curve\n",
    "from sklearn.model_selection import cross_val_score, StratifiedKFold\n",
    "from sklearn.linear_model import LogisticRegression\n",
    "from sklearn.ensemble import RandomForestClassifier\n",
    "from sklearn.svm import SVC\n",
    "\n",
    "from imblearn.over_sampling import SMOTE\n",
    "from xgboost import XGBClassifier\n",
    "import shap\n",
    "\n",
    "import warnings\n",
    "warnings.filterwarnings('ignore')\n",
    "\n",
    "%matplotlib inline\n"
   ]
  },
  {
   "cell_type": "code",
   "execution_count": 2,
   "metadata": {},
   "outputs": [],
   "source": [
    "customers_df = pd.read_csv(\"/Users/akosaraju/Desktop/DSprojects/liberont/customers_updated.csv\") #replace this with your current directory\n",
    "products_df = pd.read_csv(\"/Users/akosaraju/Desktop/DSprojects/liberont/products_updated.csv\")\n",
    "purchases_df = pd.read_csv(\"/Users/akosaraju/Desktop/DSprojects/liberont/purchases_updated.csv\")"
   ]
  },
  {
   "cell_type": "code",
   "execution_count": 3,
   "metadata": {},
   "outputs": [
    {
     "name": "stdout",
     "output_type": "stream",
     "text": [
      "customers df:\n",
      "  customer_id  age  gender region signup_date\n",
      "0    CUST0001   58    Male  Tokyo  2021-08-02\n",
      "1    CUST0002   48  Female  Tokyo  2018-08-17\n",
      "2    CUST0003   34  Female  Tokyo  2018-02-21\n",
      "3    CUST0004   27    Male  Tokyo  2022-02-27\n",
      "4    CUST0005   40  Female  Osaka  2019-07-18\n",
      "\n",
      "products df:\n",
      "  product_id     category  price product_name\n",
      "0   PROD0001         Food   7666     PROD0001\n",
      "1   PROD0002     Clothing  13482     PROD0002\n",
      "2   PROD0003  Electronics  41197     PROD0003\n",
      "3   PROD0004         Food  38615     PROD0004\n",
      "4   PROD0005     Clothing   7769     PROD0005\n",
      "\n",
      "purchases df:\n",
      "  purchase_id customer_id product_id               purchase_date  quantity\n",
      "0    PUR00001    CUST0850   PROD0189  2024-05-14 05:16:34.158693         5\n",
      "1    PUR00002    CUST0911   PROD0068  2023-12-12 05:16:34.158693         4\n",
      "2    PUR00003    CUST0819   PROD0104  2024-07-23 05:16:34.158693         2\n",
      "3    PUR00004    CUST0141   PROD0080  2024-10-03 05:16:34.158693         4\n",
      "4    PUR00005    CUST0083   PROD0159  2024-04-29 05:16:34.158693         1\n"
     ]
    }
   ],
   "source": [
    "print(\"customers df:\")\n",
    "print(customers_df.head())\n",
    "\n",
    "print(\"\\nproducts df:\")\n",
    "print(products_df.head())\n",
    "\n",
    "print(\"\\npurchases df:\")\n",
    "print(purchases_df.head())"
   ]
  },
  {
   "cell_type": "code",
   "execution_count": 4,
   "metadata": {},
   "outputs": [
    {
     "name": "stdout",
     "output_type": "stream",
     "text": [
      "\n",
      "customers:\n",
      "customer_id    0\n",
      "age            0\n",
      "gender         0\n",
      "region         0\n",
      "signup_date    0\n",
      "dtype: int64\n",
      "\n",
      "products:\n",
      "product_id      0\n",
      "category        0\n",
      "price           0\n",
      "product_name    0\n",
      "dtype: int64\n",
      "\n",
      "purchases:\n",
      "purchase_id      0\n",
      "customer_id      0\n",
      "product_id       0\n",
      "purchase_date    0\n",
      "quantity         0\n",
      "dtype: int64\n"
     ]
    }
   ],
   "source": [
    "\n",
    "# missing values\n",
    "print(\"\\ncustomers:\")\n",
    "print(customers_df.isnull().sum())\n",
    "\n",
    "print(\"\\nproducts:\")\n",
    "print(products_df.isnull().sum())\n",
    "\n",
    "print(\"\\npurchases:\")\n",
    "print(purchases_df.isnull().sum())"
   ]
  },
  {
   "cell_type": "code",
   "execution_count": 5,
   "metadata": {},
   "outputs": [
    {
     "name": "stdout",
     "output_type": "stream",
     "text": [
      "\n",
      "customers:\n",
      "customer_id    object\n",
      "age             int64\n",
      "gender         object\n",
      "region         object\n",
      "signup_date    object\n",
      "dtype: object\n",
      "\n",
      "products:\n",
      "product_id      object\n",
      "category        object\n",
      "price            int64\n",
      "product_name    object\n",
      "dtype: object\n",
      "\n",
      "purchases:\n",
      "purchase_id      object\n",
      "customer_id      object\n",
      "product_id       object\n",
      "purchase_date    object\n",
      "quantity          int64\n",
      "dtype: object\n"
     ]
    }
   ],
   "source": [
    "\n",
    "# data types\n",
    "print(\"\\ncustomers:\")\n",
    "print(customers_df.dtypes)\n",
    "\n",
    "print(\"\\nproducts:\")\n",
    "print(products_df.dtypes)\n",
    "\n",
    "print(\"\\npurchases:\")\n",
    "print(purchases_df.dtypes)"
   ]
  },
  {
   "cell_type": "code",
   "execution_count": 6,
   "metadata": {},
   "outputs": [],
   "source": [
    "\n",
    "# date columns to datetime\n",
    "customers_df['signup_date'] = pd.to_datetime(customers_df['signup_date'])\n",
    "purchases_df['purchase_date'] = pd.to_datetime(purchases_df['purchase_date'])\n"
   ]
  },
  {
   "cell_type": "code",
   "execution_count": 7,
   "metadata": {},
   "outputs": [
    {
     "name": "stdout",
     "output_type": "stream",
     "text": [
      "duplicates in customers: 0\n",
      "duplicates in products: 0\n",
      "duplicates in purchases: 0\n",
      "null values in customers:\n",
      " customer_id    0\n",
      "age            0\n",
      "gender         0\n",
      "region         0\n",
      "signup_date    0\n",
      "dtype: int64\n",
      "null values in products:\n",
      " product_id      0\n",
      "category        0\n",
      "price           0\n",
      "product_name    0\n",
      "dtype: int64\n",
      "null values in purchases:\n",
      " purchase_id      0\n",
      "customer_id      0\n",
      "product_id       0\n",
      "purchase_date    0\n",
      "quantity         0\n",
      "dtype: int64\n"
     ]
    }
   ],
   "source": [
    "\n",
    "# duplicates\n",
    "print(\"duplicates in customers:\", customers_df.duplicated().sum())\n",
    "print(\"duplicates in products:\", products_df.duplicated().sum())\n",
    "print(\"duplicates in purchases:\", purchases_df.duplicated().sum())\n",
    "\n",
    "# null values\n",
    "print(\"null values in customers:\\n\", customers_df.isnull().sum())\n",
    "print(\"null values in products:\\n\", products_df.isnull().sum())\n",
    "print(\"null values in purchases:\\n\", purchases_df.isnull().sum())"
   ]
  },
  {
   "cell_type": "markdown",
   "metadata": {},
   "source": [
    "\n",
    "#### Data preprocessing and feature engineering\n",
    "\n",
    "first we need to define what we consider to be a churn"
   ]
  },
  {
   "cell_type": "code",
   "execution_count": 8,
   "metadata": {},
   "outputs": [
    {
     "data": {
      "image/png": "[encoded data removed]",
      "text/plain": [
       "<Figure size 640x480 with 1 Axes>"
      ]
     },
     "metadata": {},
     "output_type": "display_data"
    },
    {
     "name": "stdout",
     "output_type": "stream",
     "text": [
      "churn rate: 8.10%\n"
     ]
    }
   ],
   "source": [
    "\n",
    "# reference date\n",
    "reference_date = purchases_df['purchase_date'].max() + pd.DateOffset(days=1)\n",
    "# last purchase date per customer\n",
    "last_purchase = purchases_df.groupby('customer_id')['purchase_date'].max().reset_index()\n",
    "last_purchase.rename(columns={'purchase_date': 'last_purchase_date'}, inplace=True)\n",
    "# merge last purchase date with customers dataframe on customer id\n",
    "data = customers_df.merge(last_purchase, on='customer_id', how='left')\n",
    "\n",
    "data['recency_days'] = (reference_date - data['last_purchase_date']).dt.days\n",
    "# customers with no purchases, recency is the tenure since signup\n",
    "data['recency_days'].fillna((reference_date - data['signup_date']).dt.days, inplace=True)\n",
    "inactivity_period = 180  # days\n",
    "data['churn'] = np.where(data['recency_days'] > inactivity_period, 1, 0)\n",
    "\n",
    "# churn distribution \n",
    "sns.countplot(x='churn', data=data)\n",
    "plt.title('churn distribution')\n",
    "plt.xlabel('churn')\n",
    "plt.ylabel('number of customers')\n",
    "plt.show()\n",
    "\n",
    "churn_percentage = data['churn'].mean() * 100\n",
    "print(f\"churn rate: {churn_percentage:.2f}%\")"
   ]
  },
  {
   "cell_type": "markdown",
   "metadata": {},
   "source": [
    "so here 1 indicates whether a customer has churned and 0 is if they have not. We see that there are significantly more zeroes than ones. This means that most customers have not churned over churning "
   ]
  },
  {
   "cell_type": "code",
   "execution_count": 9,
   "metadata": {},
   "outputs": [
    {
     "name": "stdout",
     "output_type": "stream",
     "text": [
      "dataset shape: (1000, 16)\n",
      "  customer_id  age  gender   region signup_date  total_purchases  total_spend  \\\n",
      "0    CUST0001   58    Male    Tokyo  2021-08-02              7.0     235039.0   \n",
      "1    CUST0002   48  Female    Tokyo  2018-08-17              3.0      77181.0   \n",
      "2    CUST0003   34  Female    Tokyo  2018-02-21              5.0     121372.0   \n",
      "3    CUST0004   27    Male    Tokyo  2022-02-27              3.0      59393.0   \n",
      "4    CUST0005   40  Female    Osaka  2019-07-18              5.0     135420.0   \n",
      "5    CUST0006   58  Female   Nagoya  2019-05-17              6.0      98744.0   \n",
      "6    CUST0007   38    Male  Fukuoka  2019-04-03              4.0      63023.0   \n",
      "7    CUST0008   42  Female    Tokyo  2018-10-13              6.0     142153.0   \n",
      "8    CUST0009   30  Female    Tokyo  2022-02-17              3.0      54057.0   \n",
      "9    CUST0010   30  Female    Tokyo  2018-07-29              6.0     163100.0   \n",
      "\n",
      "      avg_spend  unique_categories        first_purchase_date  \\\n",
      "0  33577.000000                4.0 2023-12-02 05:16:34.158693   \n",
      "1  25727.000000                2.0 2023-11-25 05:16:34.158693   \n",
      "2  24274.400000                4.0 2024-01-13 05:16:34.158693   \n",
      "3  19797.666667                2.0 2024-01-17 05:16:34.158693   \n",
      "4  27084.000000                4.0 2024-02-08 05:16:34.158693   \n",
      "5  16457.333333                3.0 2024-03-09 05:16:34.158693   \n",
      "6  15755.750000                2.0 2024-05-06 05:16:34.158693   \n",
      "7  23692.166667                3.0 2024-01-07 05:16:34.158693   \n",
      "8  18019.000000                2.0 2024-02-05 05:16:34.158693   \n",
      "9  27183.333333                4.0 2023-12-06 05:16:34.158693   \n",
      "\n",
      "          last_purchase_date  recency_days  tenure_days  purchase_frequency  \\\n",
      "0 2024-11-01 05:16:34.158693            35         1222            0.005724   \n",
      "1 2024-08-09 05:16:34.158693           119         2303            0.001302   \n",
      "2 2024-09-10 05:16:34.158693            87         2480            0.002015   \n",
      "3 2024-04-22 05:16:34.158693           228         1013            0.002959   \n",
      "4 2024-07-17 05:16:34.158693           142         1968            0.002539   \n",
      "5 2024-11-05 05:16:34.158693            31         2030            0.002954   \n",
      "6 2024-08-16 05:16:34.158693           112         2074            0.001928   \n",
      "7 2024-10-18 05:16:34.158693            49         2246            0.002670   \n",
      "8 2024-08-10 05:16:34.158693           118         1023            0.002930   \n",
      "9 2024-06-21 05:16:34.158693           168         2322            0.002583   \n",
      "\n",
      "  age_group  churn  \n",
      "0     55-64      0  \n",
      "1     45-54      0  \n",
      "2     25-34      0  \n",
      "3     25-34      1  \n",
      "4     35-44      0  \n",
      "5     55-64      0  \n",
      "6     35-44      0  \n",
      "7     35-44      0  \n",
      "8     25-34      0  \n",
      "9     25-34      0  \n"
     ]
    }
   ],
   "source": [
    "\n",
    "# we want to get product prices and categories\n",
    "purchases_merged = purchases_df.merge(products_df[['product_id','category','price']], \n",
    "                                      on='product_id', \n",
    "                                      how='left')\n",
    "\n",
    "# features\n",
    "customer_agg = (\n",
    "    purchases_merged\n",
    "    .groupby('customer_id')\n",
    "    .agg(\n",
    "        total_purchases=('purchase_id', 'count'),     # purchase frequency\n",
    "        total_spend=('price', 'sum'),                 # total spent by the customer\n",
    "        avg_spend=('price', 'mean'),                  # avg spend per purchase\n",
    "        unique_categories=('category', 'nunique'),    # different categories purchased\n",
    "        first_purchase_date=('purchase_date', 'min'), # first purchase date \n",
    "        last_purchase_date=('purchase_date', 'max')   # most recent purchase date\n",
    "    )\n",
    "    .reset_index()\n",
    ")\n",
    "# if a customer never made a purchase, they won't appear in customer_agg.\n",
    "\n",
    "# merge aggregation into customers_df on customer id\n",
    "data = customers_df.merge(customer_agg, on='customer_id', how='left')\n",
    "\n",
    "# customers with no purchases - total_purchases etc. will be NaN. \n",
    "# we saw in our data preprocessing that there were no nulls in the datasets, but merging on the left might introduce them for non-buyers so we fill them\n",
    "data[['total_purchases','total_spend','avg_spend','unique_categories']] = \\\n",
    "    data[['total_purchases','total_spend','avg_spend','unique_categories']].fillna(0)\n",
    "# last_purchase_date = signup_date and first_purchase_date = signup_date\n",
    "data['last_purchase_date'] = data['last_purchase_date'].fillna(data['signup_date'])\n",
    "data['first_purchase_date'] = data['first_purchase_date'].fillna(data['signup_date'])\n",
    "\n",
    "# we define reference_date for churn calculations as max purchase_date + 1 months)\n",
    "reference_date = purchases_df['purchase_date'].max() + pd.DateOffset(months=1)\n",
    "# customer recency: days since last purchase\n",
    "data['recency_days'] = (reference_date - data['last_purchase_date']).dt.days\n",
    "# customertenure: how long the customer has been a customer\n",
    "data['tenure_days'] = (reference_date - data['signup_date']).dt.days\n",
    "# purchase frequency: purchases per day of tenure\n",
    "data['purchase_frequency'] = data['total_purchases'] / (data['tenure_days'] + 1) \n",
    "\n",
    "# put age into categories\n",
    "data['age_group'] = pd.cut(\n",
    "    data['age'], \n",
    "    bins = [0, 17, 24, 34, 44, 54, 64, 100],\n",
    "    labels = ['<18', '18-24', '25-34', '35-44', '45-54', '55-64', '65+'] # can teenagers afford luxury items? \n",
    ")\n",
    "\n",
    "# churn = if recency_days > inactivity_period\n",
    "inactivity_period = 180 # can change this depending on whats needed\n",
    "data['churn'] = (data['recency_days'] > inactivity_period).astype(int)\n",
    "\n",
    "print(\"dataset shape:\", data.shape)\n",
    "print(data.head(10))"
   ]
  },
  {
   "cell_type": "markdown",
   "metadata": {},
   "source": [
    "So right now, we have our customer demographics(so looking at age, gender, region and sign_up date). We also have transaction based features so total_purchases, total_spend, avg_spend, unique_categories, recency_days. We have derived features so tenure_days, purchase_frequency, age_group and our target variable is churn."
   ]
  },
  {
   "cell_type": "code",
   "execution_count": 10,
   "metadata": {},
   "outputs": [
    {
     "name": "stdout",
     "output_type": "stream",
     "text": [
      "Index(['age', 'gender', 'region', 'total_purchases', 'total_spend',\n",
      "       'avg_spend', 'unique_categories', 'tenure_days', 'purchase_frequency',\n",
      "       'recency_days', 'age_group'],\n",
      "      dtype='object')\n"
     ]
    }
   ],
   "source": [
    "# modeling features\n",
    "feature_cols = ['age', 'gender', 'region', 'total_purchases', 'total_spend',\n",
    "                'avg_spend', 'unique_categories', 'tenure_days', \n",
    "                'purchase_frequency', 'recency_days', 'age_group']\n",
    "\n",
    "X = data[feature_cols]\n",
    "y = data['churn']\n",
    "\n",
    "# 80-20 train/test data split\n",
    "X_train, X_test, y_train, y_test = train_test_split(X, y, test_size=0.2, \n",
    "                                                    random_state=42, stratify=y)\n",
    "print(X_train.columns)"
   ]
  },
  {
   "cell_type": "code",
   "execution_count": 11,
   "metadata": {},
   "outputs": [],
   "source": [
    "# categorical columns\n",
    "categorical_cols = ['gender', 'region', 'age_group']\n",
    "\n",
    "# encode into numerical \n",
    "X_train = pd.get_dummies(X_train, columns=categorical_cols, drop_first=True)\n",
    "X_test = pd.get_dummies(X_test, columns=categorical_cols, drop_first=True)\n",
    "\n",
    "# train and test should have the same columns after encoding\n",
    "X_test = X_test.reindex(columns=X_train.columns, fill_value=0)"
   ]
  },
  {
   "cell_type": "code",
   "execution_count": 12,
   "metadata": {},
   "outputs": [],
   "source": [
    "# class imbalance\n",
    "sm = SMOTE(random_state=42)\n",
    "X_train_res, y_train_res = sm.fit_resample(X_train, y_train)"
   ]
  },
  {
   "cell_type": "markdown",
   "metadata": {},
   "source": [
    "#### logisitic regression model"
   ]
  },
  {
   "cell_type": "code",
   "execution_count": 13,
   "metadata": {},
   "outputs": [
    {
     "name": "stdout",
     "output_type": "stream",
     "text": [
      "logistic regression results:\n",
      "classification report:\n",
      "              precision    recall  f1-score   support\n",
      "\n",
      "           0       1.00      0.98      0.99       174\n",
      "           1       0.87      1.00      0.93        26\n",
      "\n",
      "    accuracy                           0.98       200\n",
      "   macro avg       0.93      0.99      0.96       200\n",
      "weighted avg       0.98      0.98      0.98       200\n",
      "\n",
      "confusion matrix:\n",
      "[[170   4]\n",
      " [  0  26]]\n",
      "AUC-ROC score: 0.9971264367816092\n"
     ]
    }
   ],
   "source": [
    "\n",
    "lr = LogisticRegression(max_iter=1000, random_state=42)\n",
    "# train\n",
    "lr.fit(X_train_res, y_train_res)\n",
    "# test\n",
    "y_pred_lr = lr.predict(X_test)\n",
    "y_prob_lr = lr.predict_proba(X_test)[:,1]\n",
    "\n",
    "print(\"logistic regression results:\")\n",
    "\n",
    "print(\"classification report:\")\n",
    "print(classification_report(y_test, y_pred_lr))\n",
    "\n",
    "print(\"confusion matrix:\")\n",
    "print(confusion_matrix(y_test, y_pred_lr))\n",
    "\n",
    "print(\"AUC-ROC score:\", roc_auc_score(y_test, y_prob_lr))"
   ]
  },
  {
   "cell_type": "markdown",
   "metadata": {},
   "source": [
    "we see that the accuracy for this model it pretty high with 98% accuracy. \n",
    "\n",
    "For class 0, the precision shows to be 1.00 meaning there are no false positives when predicting non-chum. The recall shows to be 0.98 meaning that only a small fraction of actually non-chum customers are misclassified. \n",
    "\n",
    "For class 1, the precision shows 0.87 meaning out of all customers predicted as churn, 87% were actually churners. Recall shows 1.00 meaning the model caught every churner—no churner was missed.\n",
    "\n",
    "The AUC-ROC score is 0.997 which is really high and shows that the model does a good job at ranking customers from most to least likely to churn. \n",
    "\n",
    "The model did a very good job of identifying churners. We do see that 4 out of 174 customers were incorrectly flagged as chum but this is a pretty minor error for the overal performance of the model. \n",
    "\n",
    "Let us also look at how the random forest model performs in comparison to this model\n"
   ]
  },
  {
   "cell_type": "code",
   "execution_count": 14,
   "metadata": {},
   "outputs": [
    {
     "name": "stdout",
     "output_type": "stream",
     "text": [
      "random forest results:\n",
      "classification report:\n",
      "              precision    recall  f1-score   support\n",
      "\n",
      "           0       1.00      1.00      1.00       174\n",
      "           1       1.00      1.00      1.00        26\n",
      "\n",
      "    accuracy                           1.00       200\n",
      "   macro avg       1.00      1.00      1.00       200\n",
      "weighted avg       1.00      1.00      1.00       200\n",
      "\n",
      "confusion matrix:\n",
      "[[174   0]\n",
      " [  0  26]]\n",
      "AUC-ROC score: 1.0\n"
     ]
    }
   ],
   "source": [
    "\n",
    "rf = RandomForestClassifier(n_estimators=100, random_state=42)\n",
    "# train\n",
    "rf.fit(X_train_res, y_train_res)\n",
    "# test prediction \n",
    "y_pred_rf = rf.predict(X_test)\n",
    "y_prob_rf = rf.predict_proba(X_test)[:,1]\n",
    "\n",
    "print(\"random forest results:\")\n",
    "\n",
    "print(\"classification report:\")\n",
    "print(classification_report(y_test, y_pred_rf))\n",
    "\n",
    "print(\"confusion matrix:\")\n",
    "print(confusion_matrix(y_test, y_pred_rf))\n",
    "\n",
    "print(\"AUC-ROC score:\", roc_auc_score(y_test, y_prob_rf))"
   ]
  },
  {
   "cell_type": "markdown",
   "metadata": {},
   "source": [
    "we see that the accuracy for this model is perfect.\n",
    "\n",
    "For class 0, the precision shows to be 1.00 meaning there are no false positives when predicting non-chum. The recall shows to be 1.00 meaning the model correctly identified all customers who did not churn to be non-churners  . \n",
    "\n",
    "For class 1, the precision shows 1.00 meaning that all the customers who did churn were predicted to be churners. Recall shows 1.00 meaning the model caught every churner—no churner was missed.\n",
    "\n",
    "The AUC-ROC score is 1.0 which is a perfect score and shows that the model accurately ranked customers from most to least likely to churn.\n",
    "\n",
    "The model achieved perfect results. \n",
    "\n",
    "Let us also try the XGBoost model. It is likely that the XGBoost model will also give us good results. It is good at handling niche patterns. We want to confirm stability and consistency of the predictive performanc eacross different model families. \n",
    "\n"
   ]
  },
  {
   "cell_type": "code",
   "execution_count": 15,
   "metadata": {},
   "outputs": [
    {
     "name": "stdout",
     "output_type": "stream",
     "text": [
      "XGBoost results:\n",
      "classification report:\n",
      "              precision    recall  f1-score   support\n",
      "\n",
      "           0       1.00      1.00      1.00       174\n",
      "           1       1.00      1.00      1.00        26\n",
      "\n",
      "    accuracy                           1.00       200\n",
      "   macro avg       1.00      1.00      1.00       200\n",
      "weighted avg       1.00      1.00      1.00       200\n",
      "\n",
      "confusion matrix:\n",
      "[[174   0]\n",
      " [  0  26]]\n",
      "AUC-ROC Score: 1.0\n"
     ]
    }
   ],
   "source": [
    "\n",
    "xgb_model = XGBClassifier(random_state=42, use_label_encoder=False, eval_metric='logloss')\n",
    "# train\n",
    "xgb_model.fit(X_train_res, y_train_res)\n",
    "# test\n",
    "y_pred_xgb = xgb_model.predict(X_test)\n",
    "y_prob_xgb = xgb_model.predict_proba(X_test)[:,1]\n",
    "\n",
    "print(\"XGBoost results:\")\n",
    "\n",
    "print(\"classification report:\")\n",
    "print(classification_report(y_test, y_pred_xgb))\n",
    "\n",
    "print(\"confusion matrix:\")\n",
    "print(confusion_matrix(y_test, y_pred_xgb))\n",
    "\n",
    "print(\"AUC-ROC Score:\", roc_auc_score(y_test, y_prob_xgb))"
   ]
  },
  {
   "cell_type": "markdown",
   "metadata": {},
   "source": [
    "as expected the XGBoost model also achieved perfect scores in everything similar to the random forest model."
   ]
  },
  {
   "cell_type": "markdown",
   "metadata": {},
   "source": [
    "#### Model improvements\n",
    "\n",
    "1. Even though the Random Forest and XGBoost models performed well, there is still room for fine-tuning. We can have a random search over key hyperparameters to see if you can get better performance with added data."
   ]
  },
  {
   "cell_type": "code",
   "execution_count": 16,
   "metadata": {},
   "outputs": [
    {
     "name": "stdout",
     "output_type": "stream",
     "text": [
      "best parameters: {'max_depth': 5, 'min_samples_split': 2, 'n_estimators': 100}\n",
      "best score: 1.0\n"
     ]
    }
   ],
   "source": [
    "from sklearn.model_selection import GridSearchCV\n",
    "\n",
    "param_grid = {\n",
    "    'n_estimators': [100, 200, 300],\n",
    "    'max_depth': [5, 10, 20],\n",
    "    'min_samples_split': [2, 5, 10]\n",
    "}\n",
    "\n",
    "grid_search = GridSearchCV(\n",
    "    RandomForestClassifier(random_state=42),\n",
    "    param_grid,\n",
    "    scoring='roc_auc',\n",
    "    cv=3\n",
    ")\n",
    "grid_search.fit(X_train_res, y_train_res)\n",
    "best_model = grid_search.best_estimator_\n",
    "print(\"best parameters:\", grid_search.best_params_)\n",
    "print(\"best score:\", grid_search.best_score_)\n",
    "\n"
   ]
  },
  {
   "cell_type": "markdown",
   "metadata": {},
   "source": [
    "we see the best score of 1.0 on the validation folds. \n",
    "\n",
    "There are a couple reasons for  why we keep seeing a perfect score:\n",
    "1. the dataset is either small or not very complex so the model perfectly fits\n",
    "2. There could be an issue with data leakage.\n",
    "\n",
    "2. Data leakage\n",
    "this could be an issue that comes from how the reference date and inactivity period are defined relative to the features I engineered.\n",
    "I chose a reference date to be purchases_df['purchase_date'].max() + pd.DateOffset(months = 1)  and then labeled customers as churned or not based on a 180-day inactivity period. However, if some engineered features-such as 'last_purchase' date or aggregations derived from 'purchases_merged'—include information that is too close to that reference date, the model may be indirectly “seeing” future behavior it wouldn’t realistically know at the time of prediction. \n",
    "If the 'last_purchase_date' or other features reflect transactions that occurred after what should be the cutoff for determining churn, the model will learn patterns from future purchases and thus perfectly classify churn. \n",
    "\n",
    "With more time, in order to improve the model, I want to adjust how  i define the reference date by using an earlier point in time for feature extraction. I could also perform time-based splits where training data comes entirely from an earlier period than test data.\n",
    "This way I can remove leakage to make sure that the model performs well and accurately predicts reality. "
   ]
  },
  {
   "cell_type": "markdown",
   "metadata": {},
   "source": [
    "#### Privacy considerations \n",
    "\n",
    "Right now I am merging demographic and transactional data to get my attributes like age, region and so on. These features help a lot with prediction but they do pose privacy risks if cutomer IDs or sensitive attributed can be traced back to real individuals. Here are some ways I thought of to improve privacy while keeping the model's predictive power.\n",
    "\n",
    "1. hash(customer_id) before merging to prevent linking a row to a customer\n",
    "2. make regency days go from accurate days to groups (0-30, 30-60 etc..)\n",
    "3. maybe region could also be changed to prefectures with big cities or more suburbian prefectures.\n",
    "4. can look into which features are important to be specific to the model, so if region is not needed to be specfic, i can make it braoder so you wont be able to track down the location \n",
    "\n",
    "With more time, I would be able to come up with more ways to enhance privacy and ensure the safety and privacy of customers. "
   ]
  }
 ],
 "metadata": {
  "kernelspec": {
   "display_name": "Python 3",
   "language": "python",
   "name": "python3"
  },
  "language_info": {
   "codemirror_mode": {
    "name": "ipython",
    "version": 3
   },
   "file_extension": ".py",
   "mimetype": "text/x-python",
   "name": "python",
   "nbconvert_exporter": "python",
   "pygments_lexer": "ipython3",
   "version": "3.9.6"
  }
 },
 "nbformat": 4,
 "nbformat_minor": 2
}
